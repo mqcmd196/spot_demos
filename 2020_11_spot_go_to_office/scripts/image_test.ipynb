{
 "cells": [
  {
   "cell_type": "code",
   "execution_count": null,
   "metadata": {},
   "outputs": [],
   "source": [
    "#!/usr/bin/python"
   ]
  },
  {
   "cell_type": "code",
   "execution_count": null,
   "metadata": {},
   "outputs": [],
   "source": [
    "import rospy\n",
    "import cv2\n",
    "import numpy as np\n",
    "from cv_bridge import CvBridge\n",
    "from sensor_msgs.msg import Image"
   ]
  },
  {
   "cell_type": "code",
   "execution_count": null,
   "metadata": {},
   "outputs": [],
   "source": [
    "class SubscribeOnce:\n",
    "    def __init__(self):\n",
    "        rospy.init_node('subscribe_once', anonymous=True)\n",
    "        self.bridge = CvBridge()\n",
    "        self.sub = rospy.Subscriber('/coaxial_camera/inference/segmentation', Image, self.callback)\n",
    "        self.subscribed_data = False\n",
    "        \n",
    "    def callback(self, data):\n",
    "        self.subscribed_image = data\n",
    "        self.cv_image = self.bridge.imgmsg_to_cv2(self.subscribed_image, \"bgr8\")\n",
    "        self.sub.unregister()"
   ]
  },
  {
   "cell_type": "code",
   "execution_count": null,
   "metadata": {},
   "outputs": [],
   "source": [
    "def detect_red_color(img):\n",
    "    \"\"\"\n",
    "    Detecting red color by filtering.\n",
    "    Sometimes it detects yellow a little.\n",
    "    \"\"\"\n",
    "    # convert to hsv\n",
    "    hsv_img = cv2.cvtColor(img, cv2.COLOR_BGR2HSV)\n",
    "    # hsv 1\n",
    "    hsv_min = np.array([0, 243, 50])\n",
    "    hsv_max = np.array([30, 255, 255])\n",
    "    mask1 = cv2.inRange(hsv_img, hsv_min, hsv_max)\n",
    "    # hsv 2\n",
    "    hsv_min = np.array([150, 243, 50])\n",
    "    hsv_max = np.array([179, 255, 255])\n",
    "    mask2 = cv2.inRange(hsv_img, hsv_min, hsv_max)\n",
    "    # masking\n",
    "    masked = mask1 + mask2\n",
    "    \n",
    "    return masked"
   ]
  },
  {
   "cell_type": "code",
   "execution_count": null,
   "metadata": {
    "scrolled": true
   },
   "outputs": [],
   "source": [
    "node = SubscribeOnce()"
   ]
  },
  {
   "cell_type": "code",
   "execution_count": null,
   "metadata": {},
   "outputs": [],
   "source": [
    "image_sample = node.cv_image"
   ]
  },
  {
   "cell_type": "code",
   "execution_count": null,
   "metadata": {},
   "outputs": [],
   "source": [
    "cv2.imshow(\"original\", image_sample)\n",
    "cv2.imshow(\"masked\", detect_red_color(image_sample))\n",
    "cv2.waitKey(0)\n",
    "cv2.destroyAllWindows()"
   ]
  },
  {
   "cell_type": "code",
   "execution_count": null,
   "metadata": {},
   "outputs": [],
   "source": [
    "detect_red_color(image_sample)"
   ]
  },
  {
   "cell_type": "code",
   "execution_count": null,
   "metadata": {},
   "outputs": [],
   "source": []
  }
 ],
 "metadata": {
  "kernelspec": {
   "display_name": "Python 3",
   "language": "python",
   "name": "python3"
  },
  "language_info": {
   "codemirror_mode": {
    "name": "ipython",
    "version": 3
   },
   "file_extension": ".py",
   "mimetype": "text/x-python",
   "name": "python",
   "nbconvert_exporter": "python",
   "pygments_lexer": "ipython3",
   "version": "3.6.9"
  }
 },
 "nbformat": 4,
 "nbformat_minor": 4
}
